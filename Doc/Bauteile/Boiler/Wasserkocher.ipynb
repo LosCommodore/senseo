{
 "cells": [
  {
   "cell_type": "markdown",
   "metadata": {},
   "source": [
    "## Wasserkocher\n",
    "Als Abschätzung für eine plausible Simulation der Senseo-Maschine\n",
    "\n",
    "### Leistung Wasserkocher\n",
    "Die Leistungsaufnahme von Wasserkochern rangiert meist zwischen 600 und 3.000 Watt. Für den normalen Hausgebrauch und eine Füllmenge von bis zu zwei Litern sind 2.000 bis 2.400 Watt ausreichend. Mit dieser Leistung dauert es etwa zwei bis drei Minuten, bis ein Liter Wasser zum Kochen gebracht wurde\n",
    "(google)\n",
    "\n",
    "Ein Wasserkocher (230 V) hat einen Widerstand von 35 Ω.\n",
    "(google)\n",
    "\n",
    "### Leistung Senseo\n",
    "https://www.amazon.de/422225952091-ORIGINAL-Heizelement-Kaffeepadmaschine-422225948151/dp/B01M1LJI6R\n",
    "\n",
    "Ein Standard-Senseo benötigt eine Leistung von 1400 Watt"
   ]
  },
  {
   "cell_type": "code",
   "execution_count": 1,
   "metadata": {},
   "outputs": [
    {
     "name": "stdout",
     "output_type": "stream",
     "text": [
      "37.785714285714285\n"
     ]
    }
   ],
   "source": [
    "P = 1400  # Senseo\n",
    "U = 230    # V, Nennspannung\n",
    "R = U**2/P  #  P = U**2 / R\n",
    "print(R)"
   ]
  },
  {
   "cell_type": "markdown",
   "metadata": {},
   "source": [
    "## Wärmekapazität\n",
    "Wasser hat eine spezifische Wärmekapazität von 4,19 Kilojoule pro Kilogramm und Kelvin"
   ]
  },
  {
   "cell_type": "code",
   "execution_count": 2,
   "metadata": {},
   "outputs": [
    {
     "name": "stdout",
     "output_type": "stream",
     "text": [
      "0.3341288782816229\n"
     ]
    }
   ],
   "source": [
    "# c = dQ / (m*dT)\n",
    "# dT = dQ / (c*m)\n",
    "# dT/dt = P / (c*m)\n",
    "\n",
    "c = 4.19e3  # J /(kg *K)\n",
    "m = 1 # kg\n",
    "T_dot = 1400 / (c*m)\n",
    "print(T_dot) # °C / s "
   ]
  },
  {
   "cell_type": "markdown",
   "metadata": {},
   "source": [
    "## Abschätzung Volumen des Boilers\n",
    "\n",
    "Wikipedia, Senseo:\n",
    "\n",
    "Nach einer Aufwärmzeit von ca. 60 Sekunden (nach dem Einschalten) und dem Einlegen eines Kaffeepads kann Kaffee hergestellt werden. \n",
    "\n",
    "Während des Brühvorgangs kocht das Wasser nicht weiter, sondern verhindert mit ca. 90 °C Brühtemperatur ..."
   ]
  },
  {
   "cell_type": "code",
   "execution_count": 8,
   "metadata": {},
   "outputs": [
    {
     "name": "stdout",
     "output_type": "stream",
     "text": [
      "Boiler-Volumen in Liter == Masse Wasser: 0.26730310262529833\n"
     ]
    }
   ],
   "source": [
    "# dT = dQ / (c*m)\n",
    "dT = 95 - 20  # °C\n",
    "dQ = 1400 * 60\n",
    "m = dQ / (c*dT)\n",
    "print(f\"Boiler-Volumen in Liter == Masse Wasser: {m}\")"
   ]
  }
 ],
 "metadata": {
  "language_info": {
   "name": "python"
  }
 },
 "nbformat": 4,
 "nbformat_minor": 2
}
